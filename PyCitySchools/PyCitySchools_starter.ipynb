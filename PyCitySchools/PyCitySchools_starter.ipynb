{
 "cells": [
  {
   "cell_type": "markdown",
   "metadata": {},
   "source": [
    "### Note\n",
    "* Instructions have been included for each segment. You do not have to follow them exactly, but they are included to help you think through the steps."
   ]
  },
  {
   "cell_type": "code",
   "execution_count": 213,
   "metadata": {},
   "outputs": [],
   "source": [
    "# Dependencies and Setup\n",
    "import pandas as pd\n",
    "\n",
    "# File to Load (Remember to Change These)\n",
    "school_data_to_load = \"Resources/schools_complete.csv\"\n",
    "student_data_to_load = \"Resources/students_complete.csv\"\n",
    "\n",
    "# Read School and Student Data File and store into Pandas Data Frames\n",
    "school_data = pd.read_csv(school_data_to_load)\n",
    "student_data = pd.read_csv(student_data_to_load)\n",
    "\n",
    "# Combine the data into a single dataset\n",
    "school_data_complete = pd.merge(student_data, school_data, how=\"left\", on=[\"school_name\", \"school_name\"])\n",
    "\n",
    "# school data clone\n",
    "school_data_clone = school_data\n",
    "\n"
   ]
  },
  {
   "cell_type": "markdown",
   "metadata": {},
   "source": [
    "## District Summary\n",
    "\n",
    "* Calculate the total number of schools\n",
    "\n",
    "* Calculate the total number of students\n",
    "\n",
    "* Calculate the total budget\n",
    "\n",
    "* Calculate the average math score \n",
    "\n",
    "* Calculate the average reading score\n",
    "\n",
    "* Calculate the overall passing rate (overall average score), i.e. (avg. math score + avg. reading score)/2\n",
    "\n",
    "* Calculate the percentage of students with a passing math score (70 or greater)\n",
    "\n",
    "* Calculate the percentage of students with a passing reading score (70 or greater)\n",
    "\n",
    "* Create a dataframe to hold the above results\n",
    "\n",
    "* Optional: give the displayed data cleaner formatting"
   ]
  },
  {
   "cell_type": "code",
   "execution_count": 214,
   "metadata": {},
   "outputs": [],
   "source": [
    "#create bins for a Pass Fail Classification based on a passing Rate fo 70%\n",
    "bins = [0, 69, 100]\n",
    "group_names = [\"Fail\",\"Pass\"]\n",
    "\n",
    "school_data_complete[\"Pass/Fail (Math)\"] = pd.cut(school_data_complete[\"math_score\"], bins, labels=group_names)\n",
    "school_data_complete[\"Pass/Fail (Reading)\"] = pd.cut(school_data_complete[\"reading_score\"], bins, labels=group_names)"
   ]
  },
  {
   "cell_type": "code",
   "execution_count": 215,
   "metadata": {},
   "outputs": [],
   "source": [
    "#get the school_type\n",
    "school_type = school_data[[\"school_name\", \"type\"]]"
   ]
  },
  {
   "cell_type": "code",
   "execution_count": 216,
   "metadata": {},
   "outputs": [],
   "source": [
    "#calculate the number of schools in the data set \n",
    "school_count = len(school_data_complete[\"school_name\"].unique())"
   ]
  },
  {
   "cell_type": "code",
   "execution_count": 217,
   "metadata": {},
   "outputs": [],
   "source": [
    "#calculate the number of students in the data set \n",
    "student_count = len(school_data_complete[\"Student ID\"].unique())"
   ]
  },
  {
   "cell_type": "code",
   "execution_count": 218,
   "metadata": {},
   "outputs": [],
   "source": [
    "# group data \n",
    "grouped_school_data = school_data_complete.groupby([\"school_name\", \"type\"])"
   ]
  },
  {
   "cell_type": "code",
   "execution_count": 219,
   "metadata": {},
   "outputs": [],
   "source": [
    "#calculate the overall sum of the budget from the data set \n",
    "school_budget = sum(grouped_school_data[\"budget\"].mean())"
   ]
  },
  {
   "cell_type": "code",
   "execution_count": 220,
   "metadata": {},
   "outputs": [],
   "source": [
    "#calculate the average math score\n",
    "avg_math_score = school_data_complete[\"math_score\"].mean()"
   ]
  },
  {
   "cell_type": "code",
   "execution_count": 221,
   "metadata": {},
   "outputs": [],
   "source": [
    "#calculate the average reading score\n",
    "avg_reading_score = school_data_complete[\"reading_score\"].mean()"
   ]
  },
  {
   "cell_type": "code",
   "execution_count": 222,
   "metadata": {},
   "outputs": [],
   "source": [
    "# calculate passing rate (overall_avergae)\n",
    "passing_rate = (avg_math_score + avg_reading_score) / 2"
   ]
  },
  {
   "cell_type": "code",
   "execution_count": 223,
   "metadata": {},
   "outputs": [],
   "source": [
    "#Calculate cuts based on Math and reading scores\n",
    "math_pass_fail = pd.DataFrame(pd.cut(school_data_complete[\"math_score\"], bins, labels=group_names))\n",
    "reading_pass_fail = pd.DataFrame(pd.cut(school_data_complete[\"reading_score\"], bins, labels=group_names))"
   ]
  },
  {
   "cell_type": "code",
   "execution_count": 224,
   "metadata": {},
   "outputs": [],
   "source": [
    "# find the count for students Passing Math\n",
    "students_who_passed_math = math_pass_fail[math_pass_fail[\"math_score\"]==\"Pass\"].count()"
   ]
  },
  {
   "cell_type": "code",
   "execution_count": 225,
   "metadata": {},
   "outputs": [],
   "source": [
    "# find the count for students Passing Reading\n",
    "students_who_passed_reading = reading_pass_fail[reading_pass_fail[\"reading_score\"]==\"Pass\"].count()"
   ]
  },
  {
   "cell_type": "code",
   "execution_count": 226,
   "metadata": {},
   "outputs": [],
   "source": [
    "pct_passing_math = (students_who_passed_math[\"math_score\"] /student_count) * 100"
   ]
  },
  {
   "cell_type": "code",
   "execution_count": 227,
   "metadata": {},
   "outputs": [],
   "source": [
    "pct_passing_reading = (students_who_passed_reading[\"reading_score\"] /student_count)  * 100"
   ]
  },
  {
   "cell_type": "code",
   "execution_count": 228,
   "metadata": {},
   "outputs": [],
   "source": [
    "#Create Dataframe for Summary Stats\n",
    "district_summary_df = pd.DataFrame({\"Total Schools\" : [school_count] ,\n",
    "                                    \"Total Students\" : [student_count],\n",
    "                                    \"Total Budget\" : [school_budget],\n",
    "                                    \"Average Math Score\" : [avg_math_score],\n",
    "                                    \"Average Reading Score\" : [avg_reading_score],\n",
    "                                    \"% Passing Math\" : [pct_passing_math],\n",
    "                                    \"% Passing Reading\" : [pct_passing_reading],\n",
    "                                    \"% Overall Passing Rate\" : [passing_rate] })\n"
   ]
  },
  {
   "cell_type": "code",
   "execution_count": 229,
   "metadata": {},
   "outputs": [],
   "source": [
    "#apply formatting\n",
    "district_summary_df[\"Total Budget\"] = district_summary_df[\"Total Budget\"].map(\"${:.2f}\".format)\n",
    "district_summary_df[\"Total Students\"] = district_summary_df[\"Total Students\"].map(\"{:,}\".format)"
   ]
  },
  {
   "cell_type": "code",
   "execution_count": 230,
   "metadata": {},
   "outputs": [
    {
     "data": {
      "text/html": [
       "<div>\n",
       "<style scoped>\n",
       "    .dataframe tbody tr th:only-of-type {\n",
       "        vertical-align: middle;\n",
       "    }\n",
       "\n",
       "    .dataframe tbody tr th {\n",
       "        vertical-align: top;\n",
       "    }\n",
       "\n",
       "    .dataframe thead th {\n",
       "        text-align: right;\n",
       "    }\n",
       "</style>\n",
       "<table border=\"1\" class=\"dataframe\">\n",
       "  <thead>\n",
       "    <tr style=\"text-align: right;\">\n",
       "      <th></th>\n",
       "      <th>Total Schools</th>\n",
       "      <th>Total Students</th>\n",
       "      <th>Total Budget</th>\n",
       "      <th>Average Math Score</th>\n",
       "      <th>Average Reading Score</th>\n",
       "      <th>% Passing Math</th>\n",
       "      <th>% Passing Reading</th>\n",
       "      <th>% Overall Passing Rate</th>\n",
       "    </tr>\n",
       "  </thead>\n",
       "  <tbody>\n",
       "    <tr>\n",
       "      <th>0</th>\n",
       "      <td>15</td>\n",
       "      <td>39,170</td>\n",
       "      <td>$24649428.00</td>\n",
       "      <td>78.985371</td>\n",
       "      <td>81.87784</td>\n",
       "      <td>74.980853</td>\n",
       "      <td>85.805463</td>\n",
       "      <td>80.431606</td>\n",
       "    </tr>\n",
       "  </tbody>\n",
       "</table>\n",
       "</div>"
      ],
      "text/plain": [
       "   Total Schools Total Students  Total Budget  Average Math Score  \\\n",
       "0             15         39,170  $24649428.00           78.985371   \n",
       "\n",
       "   Average Reading Score  % Passing Math  % Passing Reading  \\\n",
       "0               81.87784       74.980853          85.805463   \n",
       "\n",
       "   % Overall Passing Rate  \n",
       "0               80.431606  "
      ]
     },
     "execution_count": 230,
     "metadata": {},
     "output_type": "execute_result"
    }
   ],
   "source": [
    "district_summary_df"
   ]
  },
  {
   "cell_type": "markdown",
   "metadata": {},
   "source": [
    "## School Summary"
   ]
  },
  {
   "cell_type": "markdown",
   "metadata": {},
   "source": [
    "* Create an overview table that summarizes key metrics about each school, including:\n",
    "  * School Name\n",
    "  * School Type\n",
    "  * Total Students\n",
    "  * Total School Budget\n",
    "  * Per Student Budget\n",
    "  * Average Math Score\n",
    "  * Average Reading Score\n",
    "  * % Passing Math\n",
    "  * % Passing Reading\n",
    "  * Overall Passing Rate (Average of the above two)\n",
    "  \n",
    "* Create a dataframe to hold the above results"
   ]
  },
  {
   "cell_type": "markdown",
   "metadata": {},
   "source": [
    "## Top Performing Schools (By Passing Rate)"
   ]
  },
  {
   "cell_type": "markdown",
   "metadata": {},
   "source": [
    "* Sort and display the top five schools in overall passing rate"
   ]
  },
  {
   "cell_type": "code",
   "execution_count": 231,
   "metadata": {},
   "outputs": [],
   "source": [
    "school_mean_data = grouped_school_data[\"budget\"].mean()"
   ]
  },
  {
   "cell_type": "code",
   "execution_count": 232,
   "metadata": {},
   "outputs": [],
   "source": [
    "school_student_count = grouped_school_data[\"Student ID\"].count()"
   ]
  },
  {
   "cell_type": "code",
   "execution_count": 233,
   "metadata": {},
   "outputs": [],
   "source": [
    "school_budget_per_student = pd.DataFrame(school_mean_data / school_student_count)"
   ]
  },
  {
   "cell_type": "code",
   "execution_count": 234,
   "metadata": {},
   "outputs": [],
   "source": [
    "school_avg_math_score_data = grouped_school_data[\"math_score\"].mean()"
   ]
  },
  {
   "cell_type": "code",
   "execution_count": 235,
   "metadata": {},
   "outputs": [],
   "source": [
    "school_avg_reading_score_data = grouped_school_data[\"reading_score\"].mean()"
   ]
  },
  {
   "cell_type": "code",
   "execution_count": 236,
   "metadata": {},
   "outputs": [],
   "source": [
    "#perform merges\n",
    "combined_mean_student_count = pd.merge(school_mean_data, school_student_count, on=\"school_name\", how=\"inner\")\n",
    "combined_avg_math_and_reading = pd.merge(school_avg_math_score_data, school_avg_reading_score_data, on=\"school_name\", how=\"inner\")"
   ]
  },
  {
   "cell_type": "code",
   "execution_count": 237,
   "metadata": {},
   "outputs": [],
   "source": [
    "school_results_raw = pd.merge(combined_mean_student_count, combined_avg_math_and_reading, on=\"school_name\", how=\"inner\")\n",
    "school_results = pd.merge(school_budget_per_student, school_results_raw, on=\"school_name\", how=\"inner\")\n",
    "school_results_renamed = school_results.rename(columns={\n",
    "                                \"Student ID\": \"Total Students\",\n",
    "                                \"budget\": \"Total School Budget\",\n",
    "                                \"math_score\": \"Average Math Score\",\n",
    "                                \"reading_score\": \"Average Reading Score\"\n",
    "                                })"
   ]
  },
  {
   "cell_type": "code",
   "execution_count": 238,
   "metadata": {},
   "outputs": [],
   "source": [
    "total_passing_math_by_school = school_data_complete.loc[school_data_complete[\"Pass/Fail (Math)\"]==\"Pass\",:]\n",
    "math_passes_grouped_by_school = total_passing_math_by_school.groupby([\"School ID\", \"school_name\", \"type\"])\n",
    "math_passes_by_school = pd.DataFrame((math_passes_grouped_by_school[\"Pass/Fail (Math)\"].count() / grouped_school_data[\"Student ID\"].count()) * 100)\n"
   ]
  },
  {
   "cell_type": "code",
   "execution_count": 239,
   "metadata": {},
   "outputs": [],
   "source": [
    "total_passing_reading_by_school = school_data_complete.loc[school_data_complete[\"Pass/Fail (Reading)\"]==\"Pass\",:]\n",
    "reading_passes_grouped_by_school = total_passing_reading_by_school.groupby([\"School ID\", \"school_name\", \"type\"])\n",
    "reading_passes_by_school = pd.DataFrame((reading_passes_grouped_by_school[\"Pass/Fail (Reading)\"].count() / grouped_school_data[\"Student ID\"].count()) * 100)"
   ]
  },
  {
   "cell_type": "code",
   "execution_count": 240,
   "metadata": {},
   "outputs": [],
   "source": [
    "math_reading_results_by_school_raw = pd.merge(math_passes_by_school, reading_passes_by_school, on =\"school_name\", how=\"inner\"  )\n",
    "math_reading_results = math_reading_results_by_school_raw.rename(columns={\"0_x\": \"% Passing Math\", \"0_y\": \"% Passing Reading\"})\n",
    "math_reading_results[\"Overall Pass Rate\"] = (math_reading_results[\"% Passing Math\"] + math_reading_results[\"% Passing Reading\"]) / 2"
   ]
  },
  {
   "cell_type": "code",
   "execution_count": 241,
   "metadata": {},
   "outputs": [],
   "source": [
    "schools_raw = pd.merge(school_results_renamed,math_reading_results, on=\"school_name\")\n",
    "school_performance_raw = pd.merge(school_data, schools_raw, on=\"school_name\", how=\"inner\")"
   ]
  },
  {
   "cell_type": "code",
   "execution_count": 242,
   "metadata": {},
   "outputs": [],
   "source": [
    "#clean-up column names\n",
    "school_performance_rename = school_performance_raw.rename(columns={\"type\": \"School Type\", 0: \"Per Student Budget\", \"Overall Pass Rate\" : \"Overall Passing Rate\"})\n"
   ]
  },
  {
   "cell_type": "code",
   "execution_count": 243,
   "metadata": {},
   "outputs": [],
   "source": [
    "#apply filters to get a reduce set of columns\n",
    "school_performance_filtered = school_performance_rename.filter([\"school_name\", \"Total Students\", \"School Type\",\"Total School Budget\", \"Per Student Budget\", \"Average Math Score\" \\\n",
    "                                                                \"Average Reading Score\", \"% Passing Math\", \"% Passing Reading\", \"Overall Passing Rate\"])\n"
   ]
  },
  {
   "cell_type": "code",
   "execution_count": 244,
   "metadata": {},
   "outputs": [],
   "source": [
    "#apply formatting wiith the map function\n",
    "school_performance_filtered[\"Total School Budget\"] = school_performance_filtered[\"Total School Budget\"].map(\"${:.2f}\".format)\n",
    "school_performance_filtered[\"Per Student Budget\"] = school_performance_filtered[\"Per Student Budget\"].map(\"${:.2f}\".format)\n",
    "school_performance_filtered[\"Total Students\"] = school_performance_filtered[\"Total Students\"].map(\"{:,}\".format)\n"
   ]
  },
  {
   "cell_type": "code",
   "execution_count": 245,
   "metadata": {},
   "outputs": [],
   "source": [
    "#define school_name column as index\n",
    "school_performance_indexed = school_performance_filtered.set_index(\"school_name\")"
   ]
  },
  {
   "cell_type": "code",
   "execution_count": 246,
   "metadata": {},
   "outputs": [
    {
     "data": {
      "text/html": [
       "<div>\n",
       "<style scoped>\n",
       "    .dataframe tbody tr th:only-of-type {\n",
       "        vertical-align: middle;\n",
       "    }\n",
       "\n",
       "    .dataframe tbody tr th {\n",
       "        vertical-align: top;\n",
       "    }\n",
       "\n",
       "    .dataframe thead th {\n",
       "        text-align: right;\n",
       "    }\n",
       "</style>\n",
       "<table border=\"1\" class=\"dataframe\">\n",
       "  <thead>\n",
       "    <tr style=\"text-align: right;\">\n",
       "      <th></th>\n",
       "      <th>Total Students</th>\n",
       "      <th>School Type</th>\n",
       "      <th>Total School Budget</th>\n",
       "      <th>Per Student Budget</th>\n",
       "      <th>% Passing Math</th>\n",
       "      <th>% Passing Reading</th>\n",
       "      <th>Overall Passing Rate</th>\n",
       "    </tr>\n",
       "    <tr>\n",
       "      <th>school_name</th>\n",
       "      <th></th>\n",
       "      <th></th>\n",
       "      <th></th>\n",
       "      <th></th>\n",
       "      <th></th>\n",
       "      <th></th>\n",
       "      <th></th>\n",
       "    </tr>\n",
       "  </thead>\n",
       "  <tbody>\n",
       "    <tr>\n",
       "      <th>Cabrera High School</th>\n",
       "      <td>1,858</td>\n",
       "      <td>Charter</td>\n",
       "      <td>$1081356.00</td>\n",
       "      <td>$582.00</td>\n",
       "      <td>94.133477</td>\n",
       "      <td>97.039828</td>\n",
       "      <td>95.586652</td>\n",
       "    </tr>\n",
       "    <tr>\n",
       "      <th>Thomas High School</th>\n",
       "      <td>1,635</td>\n",
       "      <td>Charter</td>\n",
       "      <td>$1043130.00</td>\n",
       "      <td>$638.00</td>\n",
       "      <td>93.272171</td>\n",
       "      <td>97.308869</td>\n",
       "      <td>95.290520</td>\n",
       "    </tr>\n",
       "    <tr>\n",
       "      <th>Pena High School</th>\n",
       "      <td>962</td>\n",
       "      <td>Charter</td>\n",
       "      <td>$585858.00</td>\n",
       "      <td>$609.00</td>\n",
       "      <td>94.594595</td>\n",
       "      <td>95.945946</td>\n",
       "      <td>95.270270</td>\n",
       "    </tr>\n",
       "    <tr>\n",
       "      <th>Griffin High School</th>\n",
       "      <td>1,468</td>\n",
       "      <td>Charter</td>\n",
       "      <td>$917500.00</td>\n",
       "      <td>$625.00</td>\n",
       "      <td>93.392371</td>\n",
       "      <td>97.138965</td>\n",
       "      <td>95.265668</td>\n",
       "    </tr>\n",
       "    <tr>\n",
       "      <th>Wilson High School</th>\n",
       "      <td>2,283</td>\n",
       "      <td>Charter</td>\n",
       "      <td>$1319574.00</td>\n",
       "      <td>$578.00</td>\n",
       "      <td>93.867718</td>\n",
       "      <td>96.539641</td>\n",
       "      <td>95.203679</td>\n",
       "    </tr>\n",
       "  </tbody>\n",
       "</table>\n",
       "</div>"
      ],
      "text/plain": [
       "                    Total Students School Type Total School Budget  \\\n",
       "school_name                                                          \n",
       "Cabrera High School          1,858     Charter         $1081356.00   \n",
       "Thomas High School           1,635     Charter         $1043130.00   \n",
       "Pena High School               962     Charter          $585858.00   \n",
       "Griffin High School          1,468     Charter          $917500.00   \n",
       "Wilson High School           2,283     Charter         $1319574.00   \n",
       "\n",
       "                    Per Student Budget  % Passing Math  % Passing Reading  \\\n",
       "school_name                                                                 \n",
       "Cabrera High School            $582.00       94.133477          97.039828   \n",
       "Thomas High School             $638.00       93.272171          97.308869   \n",
       "Pena High School               $609.00       94.594595          95.945946   \n",
       "Griffin High School            $625.00       93.392371          97.138965   \n",
       "Wilson High School             $578.00       93.867718          96.539641   \n",
       "\n",
       "                     Overall Passing Rate  \n",
       "school_name                                \n",
       "Cabrera High School             95.586652  \n",
       "Thomas High School              95.290520  \n",
       "Pena High School                95.270270  \n",
       "Griffin High School             95.265668  \n",
       "Wilson High School              95.203679  "
      ]
     },
     "execution_count": 246,
     "metadata": {},
     "output_type": "execute_result"
    }
   ],
   "source": [
    "# sort data descending to get the top 5 schools by overall performance\n",
    "school_performance_indexed.sort_values(by=\"Overall Passing Rate\", ascending = False).head(5)"
   ]
  },
  {
   "cell_type": "markdown",
   "metadata": {},
   "source": [
    "## Bottom Performing Schools (By Passing Rate)"
   ]
  },
  {
   "cell_type": "markdown",
   "metadata": {},
   "source": [
    "* Sort and display the five worst-performing schools"
   ]
  },
  {
   "cell_type": "code",
   "execution_count": 247,
   "metadata": {},
   "outputs": [
    {
     "data": {
      "text/html": [
       "<div>\n",
       "<style scoped>\n",
       "    .dataframe tbody tr th:only-of-type {\n",
       "        vertical-align: middle;\n",
       "    }\n",
       "\n",
       "    .dataframe tbody tr th {\n",
       "        vertical-align: top;\n",
       "    }\n",
       "\n",
       "    .dataframe thead th {\n",
       "        text-align: right;\n",
       "    }\n",
       "</style>\n",
       "<table border=\"1\" class=\"dataframe\">\n",
       "  <thead>\n",
       "    <tr style=\"text-align: right;\">\n",
       "      <th></th>\n",
       "      <th>Total Students</th>\n",
       "      <th>School Type</th>\n",
       "      <th>Total School Budget</th>\n",
       "      <th>Per Student Budget</th>\n",
       "      <th>% Passing Math</th>\n",
       "      <th>% Passing Reading</th>\n",
       "      <th>Overall Passing Rate</th>\n",
       "    </tr>\n",
       "    <tr>\n",
       "      <th>school_name</th>\n",
       "      <th></th>\n",
       "      <th></th>\n",
       "      <th></th>\n",
       "      <th></th>\n",
       "      <th></th>\n",
       "      <th></th>\n",
       "      <th></th>\n",
       "    </tr>\n",
       "  </thead>\n",
       "  <tbody>\n",
       "    <tr>\n",
       "      <th>Rodriguez High School</th>\n",
       "      <td>3,999</td>\n",
       "      <td>District</td>\n",
       "      <td>$2547363.00</td>\n",
       "      <td>$637.00</td>\n",
       "      <td>66.366592</td>\n",
       "      <td>80.220055</td>\n",
       "      <td>73.293323</td>\n",
       "    </tr>\n",
       "    <tr>\n",
       "      <th>Figueroa High School</th>\n",
       "      <td>2,949</td>\n",
       "      <td>District</td>\n",
       "      <td>$1884411.00</td>\n",
       "      <td>$639.00</td>\n",
       "      <td>65.988471</td>\n",
       "      <td>80.739234</td>\n",
       "      <td>73.363852</td>\n",
       "    </tr>\n",
       "    <tr>\n",
       "      <th>Huang High School</th>\n",
       "      <td>2,917</td>\n",
       "      <td>District</td>\n",
       "      <td>$1910635.00</td>\n",
       "      <td>$655.00</td>\n",
       "      <td>65.683922</td>\n",
       "      <td>81.316421</td>\n",
       "      <td>73.500171</td>\n",
       "    </tr>\n",
       "    <tr>\n",
       "      <th>Johnson High School</th>\n",
       "      <td>4,761</td>\n",
       "      <td>District</td>\n",
       "      <td>$3094650.00</td>\n",
       "      <td>$650.00</td>\n",
       "      <td>66.057551</td>\n",
       "      <td>81.222432</td>\n",
       "      <td>73.639992</td>\n",
       "    </tr>\n",
       "    <tr>\n",
       "      <th>Ford High School</th>\n",
       "      <td>2,739</td>\n",
       "      <td>District</td>\n",
       "      <td>$1763916.00</td>\n",
       "      <td>$644.00</td>\n",
       "      <td>68.309602</td>\n",
       "      <td>79.299014</td>\n",
       "      <td>73.804308</td>\n",
       "    </tr>\n",
       "  </tbody>\n",
       "</table>\n",
       "</div>"
      ],
      "text/plain": [
       "                      Total Students School Type Total School Budget  \\\n",
       "school_name                                                            \n",
       "Rodriguez High School          3,999    District         $2547363.00   \n",
       "Figueroa High School           2,949    District         $1884411.00   \n",
       "Huang High School              2,917    District         $1910635.00   \n",
       "Johnson High School            4,761    District         $3094650.00   \n",
       "Ford High School               2,739    District         $1763916.00   \n",
       "\n",
       "                      Per Student Budget  % Passing Math  % Passing Reading  \\\n",
       "school_name                                                                   \n",
       "Rodriguez High School            $637.00       66.366592          80.220055   \n",
       "Figueroa High School             $639.00       65.988471          80.739234   \n",
       "Huang High School                $655.00       65.683922          81.316421   \n",
       "Johnson High School              $650.00       66.057551          81.222432   \n",
       "Ford High School                 $644.00       68.309602          79.299014   \n",
       "\n",
       "                       Overall Passing Rate  \n",
       "school_name                                  \n",
       "Rodriguez High School             73.293323  \n",
       "Figueroa High School              73.363852  \n",
       "Huang High School                 73.500171  \n",
       "Johnson High School               73.639992  \n",
       "Ford High School                  73.804308  "
      ]
     },
     "execution_count": 247,
     "metadata": {},
     "output_type": "execute_result"
    }
   ],
   "source": [
    "# sort data ascending to get the bottom 5 schools by overall performance\n",
    "school_performance_indexed.sort_values(by=\"Overall Passing Rate\", ascending = True).head(5)"
   ]
  },
  {
   "cell_type": "markdown",
   "metadata": {
    "collapsed": true
   },
   "source": [
    "## Math Scores by Grade"
   ]
  },
  {
   "cell_type": "markdown",
   "metadata": {},
   "source": [
    "* Create a table that lists the average Reading Score for students of each grade level (9th, 10th, 11th, 12th) at each school.\n",
    "\n",
    "  * Create a pandas series for each grade. Hint: use a conditional statement.\n",
    "  \n",
    "  * Group each series by school\n",
    "  \n",
    "  * Combine the series into a dataframe\n",
    "  \n",
    "  * Optional: give the displayed data cleaner formatting"
   ]
  },
  {
   "cell_type": "code",
   "execution_count": null,
   "metadata": {},
   "outputs": [],
   "source": [
    "#Math Score by Grade\n",
    "school_data_formatted = school_data_complete.replace(\"9th\", \"09th\")\n",
    "math_score_by_grade = pd.crosstab(school_data_formatted[\"school_name\"], school_data_formatted[\"grade\"], values=school_data_formatted[\"math_score\"], aggfunc='mean')\n",
    "math_score_by_grade.columns.names = [None]\n",
    "math_score_by_grade"
   ]
  },
  {
   "cell_type": "markdown",
   "metadata": {},
   "source": [
    "## Reading Score by Grade "
   ]
  },
  {
   "cell_type": "markdown",
   "metadata": {},
   "source": [
    "* Perform the same operations as above for reading scores"
   ]
  },
  {
   "cell_type": "code",
   "execution_count": null,
   "metadata": {},
   "outputs": [],
   "source": [
    "#Reading Score by Grade\n",
    "#school_data_formatted = school_data_complete.replace(\"9th\", \"09th\")\n",
    "reading_score_by_grade = pd.crosstab(school_data_formatted[\"school_name\"], school_data_formatted[\"grade\"], values=school_data_formatted[\"reading_score\"], aggfunc='mean')\n",
    "reading_score_by_grade.columns.names = [None]\n",
    "reading_score_by_grade"
   ]
  },
  {
   "cell_type": "markdown",
   "metadata": {},
   "source": [
    "## Scores by School Spending"
   ]
  },
  {
   "cell_type": "markdown",
   "metadata": {},
   "source": [
    "* Create a table that breaks down school performances based on average Spending Ranges (Per Student). Use 4 reasonable bins to group school spending. Include in the table each of the following:\n",
    "  * Average Math Score\n",
    "  * Average Reading Score\n",
    "  * % Passing Math\n",
    "  * % Passing Reading\n",
    "  * Overall Passing Rate (Average of the above two)"
   ]
  },
  {
   "cell_type": "code",
   "execution_count": 313,
   "metadata": {},
   "outputs": [],
   "source": [
    "# Sample bins. Feel free to create your own bins.\n",
    "spending_bins = [0, 585, 615, 645, 675]\n",
    "group_names = [\"<$585\", \"$585-615\", \"$615-645\", \"$645-675\"]"
   ]
  },
  {
   "cell_type": "code",
   "execution_count": 336,
   "metadata": {},
   "outputs": [],
   "source": [
    "#get dataset from the per school analysis above\n",
    "school_dataset = school_results_renamed.rename(columns={0: \"Per Student Spend\"})\n",
    "\n",
    "#apply the binning based on the Spending bin cuts\n",
    "school_dataset = pd.DataFrame(pd.cut(school_dataset[\"Per Student Spend\"], spending_bins, labels=group_names))\n",
    "\n",
    "\n",
    "school_budget_and_results_raw = pd.DataFrame(school_results)\n",
    "school_budget_and_results_raw[\"average_spending\"] = school_budget_and_results_raw[\"budget\"] / school_budget_and_results_raw[\"Student ID\"]\n",
    "school_budget_and_spending_raw = pd.DataFrame(pd.cut(school_budget_and_results_raw[\"average_spending\"], spending_bins, labels=group_names))\n",
    "\n",
    "school_spending_group = school_budget_and_spending_raw.groupby(\"average_spending\")\n",
    "\n",
    "#print(school_spending_group[\"Average Math Score\"].mean())\n",
    "\n",
    "\n",
    "#school_spending_vs_results.sort_values(by=\"Overall Pass Rate\", ascending = False).head(5)"
   ]
  },
  {
   "cell_type": "code",
   "execution_count": 286,
   "metadata": {},
   "outputs": [],
   "source": [
    "\n",
    "school_spending_vs_results = pd.merge(math_reading_results, school_budget_and_spending_raw, on=\"school_name\", how=\"inner\")\n"
   ]
  },
  {
   "cell_type": "code",
   "execution_count": 290,
   "metadata": {},
   "outputs": [],
   "source": [
    "\n",
    "school_spending_vs_results_group = school_spending_vs_results.groupby(\"average_spending\")\n"
   ]
  },
  {
   "cell_type": "code",
   "execution_count": 291,
   "metadata": {},
   "outputs": [],
   "source": [
    "pct_passing_math_by_spending = school_spending_vs_results_group[\"% Passing Math\"].mean()\n",
    "pct_passing_reading_by_spending = school_spending_vs_results_group[\"% Passing Reading\"].mean()"
   ]
  },
  {
   "cell_type": "code",
   "execution_count": null,
   "metadata": {},
   "outputs": [],
   "source": []
  },
  {
   "cell_type": "markdown",
   "metadata": {},
   "source": [
    "## Scores by School Size"
   ]
  },
  {
   "cell_type": "markdown",
   "metadata": {},
   "source": [
    "* Perform the same operations as above, based on school size."
   ]
  },
  {
   "cell_type": "code",
   "execution_count": 34,
   "metadata": {},
   "outputs": [],
   "source": [
    "# Sample bins. Feel free to create your own bins.\n",
    "size_bins = [0, 1000, 2000, 5000]\n",
    "group_names = [\"Small (<1000)\", \"Medium (1000-2000)\", \"Large (2000-5000)\"]"
   ]
  },
  {
   "cell_type": "code",
   "execution_count": null,
   "metadata": {
    "scrolled": true
   },
   "outputs": [],
   "source": []
  },
  {
   "cell_type": "markdown",
   "metadata": {},
   "source": [
    "## Scores by School Type"
   ]
  },
  {
   "cell_type": "markdown",
   "metadata": {},
   "source": [
    "* Perform the same operations as above, based on school type."
   ]
  },
  {
   "cell_type": "code",
   "execution_count": 295,
   "metadata": {},
   "outputs": [],
   "source": [
    "# Get Average Math and Reading Scores grouped by School Type\n",
    "school_type_groupby_data = school_data_complete.groupby([\"type\"])\n",
    "\n",
    "avg_math_score_by_type = pd.DataFrame(school_type_groupby_data[\"math_score\"].mean())\n",
    "avg_reading_score_by_type = pd.DataFrame(school_type_groupby_data[\"reading_score\"].mean())\n",
    "avg_math_reading_score_by_type = pd.merge(avg_math_score_by_type, avg_reading_score_by_type, on=\"type\")\n"
   ]
  },
  {
   "cell_type": "code",
   "execution_count": 296,
   "metadata": {},
   "outputs": [],
   "source": [
    "# Rename Columns to be cleaner / more report friendly\n",
    "school_data_complete_rename = pd.DataFrame(school_data_complete.rename(columns={\"Pass/Fail (Math)\": \"Math_Results\", \"Pass/Fail (Reading)\": \"Reading_Results\"}))\n"
   ]
  },
  {
   "cell_type": "code",
   "execution_count": 297,
   "metadata": {},
   "outputs": [],
   "source": [
    "#Get a count of the Number of Students grouped by district and Math\n",
    "school_data_complete_rename_math_grouby_data = school_data_complete_rename.groupby([\"type\"])\n",
    "total_math_students_by_type_raw = pd.DataFrame(school_data_complete_rename_math_grouby_data[\"Math_Results\"].count())\n",
    "total_math_students_by_type = total_math_students_by_type_raw.rename(columns={\"Math_Results\": \"total_math_students\"})\n"
   ]
  },
  {
   "cell_type": "code",
   "execution_count": 298,
   "metadata": {},
   "outputs": [],
   "source": [
    "#Get a count of the Number of Students grouped by district and Reading\n",
    "school_data_complete_rename_reading_grouby_data = school_data_complete_rename.groupby([\"type\"])\n",
    "total_reading_students_by_type_raw = pd.DataFrame(school_data_complete_rename_reading_grouby_data[\"Reading_Results\"].count())\n",
    "total_reading_students_by_type = total_reading_students_by_type_raw.rename(columns={\"Reading_Results\": \"total_reading_students\"})\n"
   ]
  },
  {
   "cell_type": "code",
   "execution_count": 299,
   "metadata": {},
   "outputs": [],
   "source": [
    "# Get All math passes\n",
    "all_math_passes = pd.DataFrame(school_data_complete_rename[school_data_complete_rename.Math_Results == 'Pass'])\n",
    "all_math_passes_filtered_columns = all_math_passes[[\"type\", \"size\", \"Math_Results\"]]\n",
    "type_math_pass_groupby_data = all_math_passes_filtered_columns.groupby([\"type\"])\n",
    "type_math_pass_raw = pd.DataFrame(type_math_pass_groupby_data[\"Math_Results\"].count())\n",
    "type_math_passes = type_math_pass_raw.rename(columns={\"Math_Results\": \"total_math_passes\"})"
   ]
  },
  {
   "cell_type": "code",
   "execution_count": 300,
   "metadata": {},
   "outputs": [],
   "source": [
    "# Get All reading passes\n",
    "all_reading_passes = pd.DataFrame(school_data_complete_rename[school_data_complete_rename.Reading_Results == 'Pass'])\n",
    "all_reading_passes_filtered_columns = all_reading_passes[[\"type\", \"size\", \"Reading_Results\"]]\n",
    "type_reading_pass_groupby_data = all_reading_passes_filtered_columns.groupby([\"type\"])\n",
    "type_reading_pass_raw = pd.DataFrame(type_reading_pass_groupby_data[\"Reading_Results\"].count())\n",
    "type_reading_passes = type_reading_pass_raw.rename(columns={\"Reading_Results\": \"total_reading_passes\"})"
   ]
  },
  {
   "cell_type": "code",
   "execution_count": 301,
   "metadata": {},
   "outputs": [],
   "source": [
    "# Perform Merges\n",
    "student_totals_by_subject_and_type = pd.merge(total_math_students_by_type, total_reading_students_by_type, on=\"type\")\n",
    "student_passes_by_subject_and_type = pd.merge(type_math_passes, type_reading_passes, on=\"type\")\n",
    "student_totals_by_type = pd.merge(student_passes_by_subject_and_type, student_totals_by_subject_and_type, on=\"type\")\n",
    "type_results_for_math_and_reading_raw = pd.merge(avg_math_reading_score_by_type, student_totals_by_type, on=\"type\" )"
   ]
  },
  {
   "cell_type": "code",
   "execution_count": 302,
   "metadata": {},
   "outputs": [],
   "source": [
    "# Compute Percentage Passes for Math and Reading by Type\n",
    "type_results_for_math_and_reading_raw[\"% Passing Math\"] = (type_results_for_math_and_reading_raw[\"total_math_passes\"] / \\\n",
    "                                                          type_results_for_math_and_reading_raw[\"total_math_students\"]) * 100\n",
    "\n",
    "type_results_for_math_and_reading_raw[\"% Passing Reading\"] = (type_results_for_math_and_reading_raw[\"total_reading_passes\"] / \\\n",
    "                                                          type_results_for_math_and_reading_raw[\"total_reading_students\"]) * 100\n",
    "\n",
    "type_results_for_math_and_reading_raw[\"% Overall Passing Rate\"] = ((type_results_for_math_and_reading_raw[\"total_math_passes\"] + \\\n",
    "                                                          type_results_for_math_and_reading_raw[\"total_reading_passes\"]) / \\\n",
    "                                                         (type_results_for_math_and_reading_raw[\"total_math_students\"] + \\\n",
    "                                                          type_results_for_math_and_reading_raw[\"total_reading_students\"] ) * 100)\n"
   ]
  },
  {
   "cell_type": "code",
   "execution_count": 305,
   "metadata": {},
   "outputs": [],
   "source": [
    "type_results_for_math_and_reading_filtered = type_results_for_math_and_reading_raw.filter([\"type\", \"math_score\", \"reading_score\", \"% Passing Math\", \"% Passing Reading\", \"% Overall Passing Rate\"])\n",
    "type_results_for_math_and_reading = type_results_for_math_and_reading_filtered.rename(columns={\"type\": \"School Type\", \"math_score\": \"Average Math Score\", \"reading_score\": \"Average Reading Score\"})\n"
   ]
  },
  {
   "cell_type": "code",
   "execution_count": 304,
   "metadata": {},
   "outputs": [
    {
     "data": {
      "text/html": [
       "<div>\n",
       "<style scoped>\n",
       "    .dataframe tbody tr th:only-of-type {\n",
       "        vertical-align: middle;\n",
       "    }\n",
       "\n",
       "    .dataframe tbody tr th {\n",
       "        vertical-align: top;\n",
       "    }\n",
       "\n",
       "    .dataframe thead th {\n",
       "        text-align: right;\n",
       "    }\n",
       "</style>\n",
       "<table border=\"1\" class=\"dataframe\">\n",
       "  <thead>\n",
       "    <tr style=\"text-align: right;\">\n",
       "      <th></th>\n",
       "      <th>Average Math Score</th>\n",
       "      <th>Average Reading Score</th>\n",
       "      <th>% Passing Math</th>\n",
       "      <th>% Passing Reading</th>\n",
       "      <th>% Overall Passing Rate</th>\n",
       "    </tr>\n",
       "    <tr>\n",
       "      <th>type</th>\n",
       "      <th></th>\n",
       "      <th></th>\n",
       "      <th></th>\n",
       "      <th></th>\n",
       "      <th></th>\n",
       "    </tr>\n",
       "  </thead>\n",
       "  <tbody>\n",
       "    <tr>\n",
       "      <th>Charter</th>\n",
       "      <td>83.406183</td>\n",
       "      <td>83.902821</td>\n",
       "      <td>93.701821</td>\n",
       "      <td>96.645891</td>\n",
       "      <td>95.173856</td>\n",
       "    </tr>\n",
       "    <tr>\n",
       "      <th>District</th>\n",
       "      <td>76.987026</td>\n",
       "      <td>80.962485</td>\n",
       "      <td>66.518387</td>\n",
       "      <td>80.905249</td>\n",
       "      <td>73.711818</td>\n",
       "    </tr>\n",
       "  </tbody>\n",
       "</table>\n",
       "</div>"
      ],
      "text/plain": [
       "          Average Math Score  Average Reading Score  % Passing Math  \\\n",
       "type                                                                  \n",
       "Charter            83.406183              83.902821       93.701821   \n",
       "District           76.987026              80.962485       66.518387   \n",
       "\n",
       "          % Passing Reading  % Overall Passing Rate  \n",
       "type                                                 \n",
       "Charter           96.645891               95.173856  \n",
       "District          80.905249               73.711818  "
      ]
     },
     "execution_count": 304,
     "metadata": {},
     "output_type": "execute_result"
    }
   ],
   "source": [
    "type_results_for_math_and_reading"
   ]
  },
  {
   "cell_type": "code",
   "execution_count": null,
   "metadata": {},
   "outputs": [],
   "source": []
  }
 ],
 "metadata": {
  "anaconda-cloud": {},
  "kernel_info": {
   "name": "python3"
  },
  "kernelspec": {
   "display_name": "Python 3",
   "language": "python",
   "name": "python3"
  },
  "language_info": {
   "codemirror_mode": {
    "name": "ipython",
    "version": 3
   },
   "file_extension": ".py",
   "mimetype": "text/x-python",
   "name": "python",
   "nbconvert_exporter": "python",
   "pygments_lexer": "ipython3",
   "version": "3.7.6"
  },
  "latex_envs": {
   "LaTeX_envs_menu_present": true,
   "autoclose": false,
   "autocomplete": true,
   "bibliofile": "biblio.bib",
   "cite_by": "apalike",
   "current_citInitial": 1,
   "eqLabelWithNumbers": true,
   "eqNumInitial": 1,
   "hotkeys": {
    "equation": "Ctrl-E",
    "itemize": "Ctrl-I"
   },
   "labels_anchors": false,
   "latex_user_defs": false,
   "report_style_numbering": false,
   "user_envs_cfg": false
  },
  "nteract": {
   "version": "0.8.4"
  }
 },
 "nbformat": 4,
 "nbformat_minor": 1
}
