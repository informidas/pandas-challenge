{
 "cells": [
  {
   "cell_type": "markdown",
   "metadata": {},
   "source": [
    "### Note\n",
    "* Instructions have been included for each segment. You do not have to follow them exactly, but they are included to help you think through the steps."
   ]
  },
  {
   "cell_type": "code",
   "execution_count": 5,
   "metadata": {},
   "outputs": [],
   "source": [
    "# Dependencies and Setup\n",
    "import pandas as pd\n",
    "import textwrap\n",
    "\n",
    "# File to Load (Remember to Change These)\n",
    "school_data_to_load = \"Resources/schools_complete.csv\"\n",
    "student_data_to_load = \"Resources/students_complete.csv\"\n",
    "\n",
    "# Read School and Student Data File and store into Pandas Data Frames\n",
    "school_data = pd.read_csv(school_data_to_load)\n",
    "#print(school_data)\n",
    "student_data = pd.read_csv(student_data_to_load)\n",
    "\n",
    "# Combine the data into a single dataset\n",
    "school_data_complete = pd.merge(student_data, school_data, how=\"left\", on=[\"school_name\", \"school_name\"])\n",
    "#print(school_data_complete)\n",
    "\n",
    "\n",
    "bins = [0, 69, 100]\n",
    "\n",
    "group_names = [\"Fail\",\"Pass\"]\n",
    "\n",
    "school_data_complete[\"Pass/Fail (Math)\"] = pd.cut(school_data_complete[\"math_score\"], bins, labels=group_names)\n",
    "school_data_complete[\"Pass/Fail (Reading)\"] = pd.cut(school_data_complete[\"reading_score\"], bins, labels=group_names)\n",
    "\n",
    "\n",
    "#get the school_type\n",
    "school_type = school_data[[\"school_name\", \"type\"]]\n",
    "#print(school_type)\n",
    "\n",
    "#calculate the number of schools in the data set \n",
    "school_count = len(school_data_complete[\"school_name\"].unique())\n",
    "\n",
    "#calculate the number of students in the data set \n",
    "student_count = len(school_data_complete[\"Student ID\"].unique())\n",
    "\n",
    "# group data \n",
    "grouped_school_data = school_data_complete.groupby([\"School ID\", \"school_name\", \"type\"])\n",
    "\n",
    "#calculate the overall sum of the budget from the data set \n",
    "school_budget = sum(grouped_school_data[\"budget\"].mean())\n",
    "\n",
    "#calculate the average math score\n",
    "avg_math_score = school_data_complete[\"math_score\"].mean()\n",
    "\n",
    "#calculate the average reading score\n",
    "avg_reading_score = school_data_complete[\"reading_score\"].mean()\n",
    "\n",
    "# calculate passing rate (overall_avergae)\n",
    "passing_rate = (avg_math_score + avg_reading_score) / 2\n",
    "\n",
    "\n",
    "\n",
    "math_pass_fail = pd.DataFrame(pd.cut(school_data_complete[\"math_score\"], bins, labels=group_names))\n",
    "reading_pass_fail = pd.DataFrame(pd.cut(school_data_complete[\"reading_score\"], bins, labels=group_names))\n",
    "students_who_passed_math = math_pass_fail[math_pass_fail[\"math_score\"]==\"Pass\"].count()\n",
    "students_who_passed_reading = reading_pass_fail[reading_pass_fail[\"reading_score\"]==\"Pass\"].count()\n",
    "\n",
    "#math_passes = math_pass_fail[\"math_score\"] \n",
    "\n",
    "pct_passing_math = (students_who_passed_math[\"math_score\"] /student_count) * 100\n",
    "pct_passing_reading = (students_who_passed_reading[\"reading_score\"] /student_count)  * 100\n",
    "#print(passing_rate)\n",
    "\n",
    "# Overall averall\n",
    "\n",
    "district_summary_df = pd.DataFrame({\"Total Schools\" : [school_count] ,\n",
    "                                    \"Total Students\" : [student_count],\n",
    "                                    \"Total Budget\" : [school_budget],\n",
    "                                    \"Average Math Score\" : [avg_math_score],\n",
    "                                    \"Average Reading Score\" : [avg_reading_score],\n",
    "                                    \"% Passing Math\" : [pct_passing_math],\n",
    "                                    \"% Passing Reading\" : [pct_passing_reading],\n",
    "                                    \"% Overall Passing Rate\" : [passing_rate] })\n",
    "\n",
    "school_data_complete.head()\n",
    "\n",
    "district_summary_df[\"Total Budget\"] = district_summary_df[\"Total Budget\"].map(\"${:.2f}\".format)\n",
    "district_summary_df[\"Total Students\"] = district_summary_df[\"Total Students\"].map(\"{:,}\".format)\n",
    "\n"
   ]
  },
  {
   "cell_type": "markdown",
   "metadata": {},
   "source": [
    "## District Summary\n",
    "\n",
    "* Calculate the total number of schools\n",
    "\n",
    "* Calculate the total number of students\n",
    "\n",
    "* Calculate the total budget\n",
    "\n",
    "* Calculate the average math score \n",
    "\n",
    "* Calculate the average reading score\n",
    "\n",
    "* Calculate the overall passing rate (overall average score), i.e. (avg. math score + avg. reading score)/2\n",
    "\n",
    "* Calculate the percentage of students with a passing math score (70 or greater)\n",
    "\n",
    "* Calculate the percentage of students with a passing reading score (70 or greater)\n",
    "\n",
    "* Create a dataframe to hold the above results\n",
    "\n",
    "* Optional: give the displayed data cleaner formatting"
   ]
  },
  {
   "cell_type": "code",
   "execution_count": 6,
   "metadata": {},
   "outputs": [
    {
     "data": {
      "text/html": [
       "<div>\n",
       "<style scoped>\n",
       "    .dataframe tbody tr th:only-of-type {\n",
       "        vertical-align: middle;\n",
       "    }\n",
       "\n",
       "    .dataframe tbody tr th {\n",
       "        vertical-align: top;\n",
       "    }\n",
       "\n",
       "    .dataframe thead th {\n",
       "        text-align: right;\n",
       "    }\n",
       "</style>\n",
       "<table border=\"1\" class=\"dataframe\">\n",
       "  <thead>\n",
       "    <tr style=\"text-align: right;\">\n",
       "      <th></th>\n",
       "      <th>Total Schools</th>\n",
       "      <th>Total Students</th>\n",
       "      <th>Total Budget</th>\n",
       "      <th>Average Math Score</th>\n",
       "      <th>Average Reading Score</th>\n",
       "      <th>% Passing Math</th>\n",
       "      <th>% Passing Reading</th>\n",
       "      <th>% Overall Passing Rate</th>\n",
       "    </tr>\n",
       "  </thead>\n",
       "  <tbody>\n",
       "    <tr>\n",
       "      <th>0</th>\n",
       "      <td>15</td>\n",
       "      <td>39,170</td>\n",
       "      <td>$24649428.00</td>\n",
       "      <td>78.985371</td>\n",
       "      <td>81.87784</td>\n",
       "      <td>74.980853</td>\n",
       "      <td>85.805463</td>\n",
       "      <td>80.431606</td>\n",
       "    </tr>\n",
       "  </tbody>\n",
       "</table>\n",
       "</div>"
      ],
      "text/plain": [
       "   Total Schools Total Students  Total Budget  Average Math Score  \\\n",
       "0             15         39,170  $24649428.00           78.985371   \n",
       "\n",
       "   Average Reading Score  % Passing Math  % Passing Reading  \\\n",
       "0               81.87784       74.980853          85.805463   \n",
       "\n",
       "   % Overall Passing Rate  \n",
       "0               80.431606  "
      ]
     },
     "execution_count": 6,
     "metadata": {},
     "output_type": "execute_result"
    }
   ],
   "source": [
    "district_summary_df"
   ]
  },
  {
   "cell_type": "code",
   "execution_count": null,
   "metadata": {},
   "outputs": [],
   "source": [
    "\n"
   ]
  },
  {
   "cell_type": "code",
   "execution_count": 32,
   "metadata": {},
   "outputs": [
    {
     "name": "stdout",
     "output_type": "stream",
     "text": [
      "                                                  0\n",
      "School ID school_name           type               \n",
      "0         Huang High School     District  65.683922\n",
      "1         Figueroa High School  District  65.988471\n",
      "2         Shelton High School   Charter   93.867121\n",
      "3         Hernandez High School District  66.752967\n",
      "4         Griffin High School   Charter   93.392371\n",
      "5         Wilson High School    Charter   93.867718\n",
      "6         Cabrera High School   Charter   94.133477\n",
      "7         Bailey High School    District  66.680064\n",
      "8         Holden High School    Charter   92.505855\n",
      "9         Pena High School      Charter   94.594595\n",
      "10        Wright High School    Charter   93.333333\n",
      "11        Rodriguez High School District  66.366592\n",
      "12        Johnson High School   District  66.057551\n",
      "13        Ford High School      District  68.309602\n",
      "14        Thomas High School    Charter   93.272171\n",
      "                                                  0\n",
      "School ID school_name           type               \n",
      "0         Huang High School     District  81.316421\n",
      "1         Figueroa High School  District  80.739234\n",
      "2         Shelton High School   Charter   95.854628\n",
      "3         Hernandez High School District  80.862999\n",
      "4         Griffin High School   Charter   97.138965\n",
      "5         Wilson High School    Charter   96.539641\n",
      "6         Cabrera High School   Charter   97.039828\n",
      "7         Bailey High School    District  81.933280\n",
      "8         Holden High School    Charter   96.252927\n",
      "9         Pena High School      Charter   95.945946\n",
      "10        Wright High School    Charter   96.611111\n",
      "11        Rodriguez High School District  80.220055\n",
      "12        Johnson High School   District  81.222432\n",
      "13        Ford High School      District  79.299014\n",
      "14        Thomas High School    Charter   97.308869\n",
      "                       % Passing Math  % Passing Reading  Overall Pass Rate\n",
      "school_name                                                                \n",
      "Huang High School           65.683922          81.316421          73.500171\n",
      "Figueroa High School        65.988471          80.739234          73.363852\n",
      "Shelton High School         93.867121          95.854628          94.860875\n",
      "Hernandez High School       66.752967          80.862999          73.807983\n",
      "Griffin High School         93.392371          97.138965          95.265668\n",
      "Wilson High School          93.867718          96.539641          95.203679\n",
      "Cabrera High School         94.133477          97.039828          95.586652\n",
      "Bailey High School          66.680064          81.933280          74.306672\n",
      "Holden High School          92.505855          96.252927          94.379391\n",
      "Pena High School            94.594595          95.945946          95.270270\n",
      "Wright High School          93.333333          96.611111          94.972222\n",
      "Rodriguez High School       66.366592          80.220055          73.293323\n",
      "Johnson High School         66.057551          81.222432          73.639992\n",
      "Ford High School            68.309602          79.299014          73.804308\n",
      "Thomas High School          93.272171          97.308869          95.290520\n"
     ]
    }
   ],
   "source": [
    "school_mean_data = grouped_school_data[\"budget\"].mean()\n",
    "#print(school_mean_data)\n",
    "\n",
    "#school_mean_data = grouped_student_data[\"budget\"].mean()\n",
    "school_student_count = grouped_school_data[\"Student ID\"].count()\n",
    "\n",
    "#print(school_student_count)\n",
    "school_avg_math_score_data = grouped_school_data[\"math_score\"].mean()\n",
    "\n",
    "#print(school_avg_math_score_data)\n",
    "school_avg_reading_score_data = grouped_school_data[\"reading_score\"].mean()\n",
    "\n",
    "combined_mean_student_count = pd.merge(school_mean_data, school_student_count, on=\"school_name\", how=\"inner\")\n",
    "\n",
    "combined_avg_math_and_reading = pd.merge(school_avg_math_score_data, school_avg_reading_score_data, on=\"school_name\", how=\"inner\")\n",
    "\n",
    "school_results = pd.merge(combined_mean_student_count, combined_avg_math_and_reading, on=\"school_name\", how=\"inner\")\n",
    "\n",
    "school_results.rename(columns={\"school_name\": \"\",\n",
    "                                \"Student ID\": \"Total Students\",\n",
    "                                \"budget\": \"Total School Budget\",\n",
    "                                \"math_score\": \"Average Math Score\",\n",
    "                                \"reading_score\": \"Average Reading Score\"\n",
    "                                })\n",
    "\n",
    "total_passing_math_by_school = school_data_complete.loc[school_data_complete[\"Pass/Fail (Math)\"]==\"Pass\",:]\n",
    "math_passes_grouped_by_school = total_passing_math_by_school.groupby([\"School ID\", \"school_name\", \"type\"])\n",
    "math_passes_by_school = pd.DataFrame((math_passes_grouped_by_school[\"Pass/Fail (Math)\"].count() / grouped_school_data[\"Student ID\"].count()) * 100)\n",
    "#print(math_passes_by_school)\n",
    "\n",
    "total_passing_reading_by_school = school_data_complete.loc[school_data_complete[\"Pass/Fail (Reading)\"]==\"Pass\",:]\n",
    "reading_passes_grouped_by_school = total_passing_reading_by_school.groupby([\"School ID\", \"school_name\", \"type\"])\n",
    "reading_passes_by_school = pd.DataFrame((reading_passes_grouped_by_school[\"Pass/Fail (Reading)\"].count() / grouped_school_data[\"Student ID\"].count()) * 100)\n",
    "#print(reading_passes_by_school)\n",
    "\n",
    "math_reading_results_by_school_raw = pd.merge(math_passes_by_school, reading_passes_by_school, on =\"school_name\", how=\"inner\"  )\n",
    "math_reading_results = math_reading_results_by_school_raw.rename(columns={\"0_x\": \"% Passing Math\", \"0_y\": \"% Passing Reading\"})\n",
    "math_reading_results[\"Overall Pass Rate\"] = (math_reading_results[\"% Passing Math\"] + math_reading_results[\"% Passing Reading\"]) / 2\n",
    "\n",
    "print(math_reading_results)\n",
    "\n",
    "\n",
    "\n"
   ]
  },
  {
   "cell_type": "code",
   "execution_count": null,
   "metadata": {},
   "outputs": [],
   "source": []
  },
  {
   "cell_type": "code",
   "execution_count": null,
   "metadata": {},
   "outputs": [],
   "source": []
  },
  {
   "cell_type": "code",
   "execution_count": null,
   "metadata": {},
   "outputs": [],
   "source": []
  },
  {
   "cell_type": "code",
   "execution_count": null,
   "metadata": {},
   "outputs": [],
   "source": []
  },
  {
   "cell_type": "code",
   "execution_count": null,
   "metadata": {},
   "outputs": [],
   "source": []
  },
  {
   "cell_type": "code",
   "execution_count": null,
   "metadata": {},
   "outputs": [],
   "source": []
  },
  {
   "cell_type": "markdown",
   "metadata": {},
   "source": [
    "## School Summary"
   ]
  },
  {
   "cell_type": "markdown",
   "metadata": {},
   "source": [
    "* Create an overview table that summarizes key metrics about each school, including:\n",
    "  * School Name\n",
    "  * School Type\n",
    "  * Total Students\n",
    "  * Total School Budget\n",
    "  * Per Student Budget\n",
    "  * Average Math Score\n",
    "  * Average Reading Score\n",
    "  * % Passing Math\n",
    "  * % Passing Reading\n",
    "  * Overall Passing Rate (Average of the above two)\n",
    "  \n",
    "* Create a dataframe to hold the above results"
   ]
  },
  {
   "cell_type": "markdown",
   "metadata": {},
   "source": [
    "## Top Performing Schools (By Passing Rate)"
   ]
  },
  {
   "cell_type": "markdown",
   "metadata": {},
   "source": [
    "* Sort and display the top five schools in overall passing rate"
   ]
  },
  {
   "cell_type": "code",
   "execution_count": null,
   "metadata": {},
   "outputs": [],
   "source": []
  },
  {
   "cell_type": "markdown",
   "metadata": {},
   "source": [
    "## Bottom Performing Schools (By Passing Rate)"
   ]
  },
  {
   "cell_type": "markdown",
   "metadata": {},
   "source": [
    "* Sort and display the five worst-performing schools"
   ]
  },
  {
   "cell_type": "code",
   "execution_count": null,
   "metadata": {},
   "outputs": [],
   "source": []
  },
  {
   "cell_type": "markdown",
   "metadata": {
    "collapsed": true
   },
   "source": [
    "## Math Scores by Grade"
   ]
  },
  {
   "cell_type": "markdown",
   "metadata": {},
   "source": [
    "* Create a table that lists the average Reading Score for students of each grade level (9th, 10th, 11th, 12th) at each school.\n",
    "\n",
    "  * Create a pandas series for each grade. Hint: use a conditional statement.\n",
    "  \n",
    "  * Group each series by school\n",
    "  \n",
    "  * Combine the series into a dataframe\n",
    "  \n",
    "  * Optional: give the displayed data cleaner formatting"
   ]
  },
  {
   "cell_type": "code",
   "execution_count": null,
   "metadata": {},
   "outputs": [],
   "source": []
  },
  {
   "cell_type": "markdown",
   "metadata": {},
   "source": [
    "## Reading Score by Grade "
   ]
  },
  {
   "cell_type": "markdown",
   "metadata": {},
   "source": [
    "* Perform the same operations as above for reading scores"
   ]
  },
  {
   "cell_type": "code",
   "execution_count": null,
   "metadata": {},
   "outputs": [],
   "source": []
  },
  {
   "cell_type": "markdown",
   "metadata": {},
   "source": [
    "## Scores by School Spending"
   ]
  },
  {
   "cell_type": "markdown",
   "metadata": {},
   "source": [
    "* Create a table that breaks down school performances based on average Spending Ranges (Per Student). Use 4 reasonable bins to group school spending. Include in the table each of the following:\n",
    "  * Average Math Score\n",
    "  * Average Reading Score\n",
    "  * % Passing Math\n",
    "  * % Passing Reading\n",
    "  * Overall Passing Rate (Average of the above two)"
   ]
  },
  {
   "cell_type": "code",
   "execution_count": null,
   "metadata": {},
   "outputs": [],
   "source": [
    "# Sample bins. Feel free to create your own bins.\n",
    "spending_bins = [0, 585, 615, 645, 675]\n",
    "group_names = [\"<$585\", \"$585-615\", \"$615-645\", \"$645-675\"]"
   ]
  },
  {
   "cell_type": "code",
   "execution_count": null,
   "metadata": {},
   "outputs": [],
   "source": []
  },
  {
   "cell_type": "markdown",
   "metadata": {},
   "source": [
    "## Scores by School Size"
   ]
  },
  {
   "cell_type": "markdown",
   "metadata": {},
   "source": [
    "* Perform the same operations as above, based on school size."
   ]
  },
  {
   "cell_type": "code",
   "execution_count": null,
   "metadata": {},
   "outputs": [],
   "source": [
    "# Sample bins. Feel free to create your own bins.\n",
    "size_bins = [0, 1000, 2000, 5000]\n",
    "group_names = [\"Small (<1000)\", \"Medium (1000-2000)\", \"Large (2000-5000)\"]"
   ]
  },
  {
   "cell_type": "code",
   "execution_count": null,
   "metadata": {
    "scrolled": true
   },
   "outputs": [],
   "source": []
  },
  {
   "cell_type": "markdown",
   "metadata": {},
   "source": [
    "## Scores by School Type"
   ]
  },
  {
   "cell_type": "markdown",
   "metadata": {},
   "source": [
    "* Perform the same operations as above, based on school type."
   ]
  },
  {
   "cell_type": "code",
   "execution_count": null,
   "metadata": {},
   "outputs": [],
   "source": []
  },
  {
   "cell_type": "code",
   "execution_count": null,
   "metadata": {},
   "outputs": [],
   "source": []
  }
 ],
 "metadata": {
  "anaconda-cloud": {},
  "kernel_info": {
   "name": "python3"
  },
  "kernelspec": {
   "display_name": "Python 3",
   "language": "python",
   "name": "python3"
  },
  "language_info": {
   "codemirror_mode": {
    "name": "ipython",
    "version": 3
   },
   "file_extension": ".py",
   "mimetype": "text/x-python",
   "name": "python",
   "nbconvert_exporter": "python",
   "pygments_lexer": "ipython3",
   "version": "3.7.3"
  },
  "latex_envs": {
   "LaTeX_envs_menu_present": true,
   "autoclose": false,
   "autocomplete": true,
   "bibliofile": "biblio.bib",
   "cite_by": "apalike",
   "current_citInitial": 1,
   "eqLabelWithNumbers": true,
   "eqNumInitial": 1,
   "hotkeys": {
    "equation": "Ctrl-E",
    "itemize": "Ctrl-I"
   },
   "labels_anchors": false,
   "latex_user_defs": false,
   "report_style_numbering": false,
   "user_envs_cfg": false
  },
  "nteract": {
   "version": "0.8.4"
  }
 },
 "nbformat": 4,
 "nbformat_minor": 1
}
